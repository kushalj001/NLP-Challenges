{
 "cells": [
  {
   "cell_type": "code",
   "execution_count": 1,
   "metadata": {},
   "outputs": [],
   "source": [
    "import nltk\n",
    "import numpy as np\n",
    "import pandas as pd\n",
    "import re\n",
    "import string"
   ]
  },
  {
   "cell_type": "code",
   "execution_count": 2,
   "metadata": {},
   "outputs": [],
   "source": [
    "\n",
    "input_text = '''When the modern Olympics began in 1896, the initiators and organizers ---- looking for a great popularizing event, recalling the ancient glory of Greece. The idea of a marathon race came from Michel Breal, who wanted the event to feature in the first modern Olympic Games in 1896 in Athens. This idea was heavily supported by Pierre de Coubertin, the founder of the modern Olympics, as well as by the Greeks. The Greeks staged a selection race for the Olympic marathon on 10 March 1896 that ---- won by Charilaos Vasilakos in 3 hours and 18 minutes (with the future winner of the introductory Olympic Games marathon coming in fifth). The winner of the first Olympic Marathon, on 10 April 1896 (a male-only race), was Spyridon \"Spyros\" Louis, a Greek water-carrier, in 2 hours 58 minutes and 50 seconds. The women's marathon ---- introduced at the 1984 Summer Olympics (Los Angeles, USA) and ---- won by Joan Benoit of the United States with a time of 2 hours 24 minutes and 52 seconds. Since the modern games were founded, it has become a tradition for the men's Olympic marathon to be the last event of the athletics calendar, with a finish inside the Olympic stadium, often within hours of, or even incorporated into, the closing ceremonies. The marathon of the 2004 Summer Olympics revived the traditional route from Marathon to Athens, ending at Panathinaiko Stadium, the venue for the 1896 Summer Olympics. Since the modern games ---- founded, it has become a tradition for the men's Olympic marathon to be the last event of the athletics calendar, with a finish inside the Olympic stadium, often within hours of, or even incorporated into, the closing ceremonies. The marathon of the 2004 Summer Olympics revived the traditional route from Marathon to Athens, ending at Panathinaiko Stadium, the venue for the 1896 Summer Olympics. The Olympic men's record ---- 2:06:32.'''"
   ]
  },
  {
   "cell_type": "code",
   "execution_count": 3,
   "metadata": {},
   "outputs": [
    {
     "data": {
      "text/plain": [
       "'When the modern Olympics began in 1896, the initiators and organizers ---- looking for a great popularizing event, recalling the ancient glory of Greece. The idea of a marathon race came from Michel Breal, who wanted the event to feature in the first modern Olympic Games in 1896 in Athens. This idea was heavily supported by Pierre de Coubertin, the founder of the modern Olympics, as well as by the Greeks. The Greeks staged a selection race for the Olympic marathon on 10 March 1896 that ---- won by Charilaos Vasilakos in 3 hours and 18 minutes (with the future winner of the introductory Olympic Games marathon coming in fifth). The winner of the first Olympic Marathon, on 10 April 1896 (a male-only race), was Spyridon \"Spyros\" Louis, a Greek water-carrier, in 2 hours 58 minutes and 50 seconds. The women\\'s marathon ---- introduced at the 1984 Summer Olympics (Los Angeles, USA) and ---- won by Joan Benoit of the United States with a time of 2 hours 24 minutes and 52 seconds. Since the modern games were founded, it has become a tradition for the men\\'s Olympic marathon to be the last event of the athletics calendar, with a finish inside the Olympic stadium, often within hours of, or even incorporated into, the closing ceremonies. The marathon of the 2004 Summer Olympics revived the traditional route from Marathon to Athens, ending at Panathinaiko Stadium, the venue for the 1896 Summer Olympics. Since the modern games ---- founded, it has become a tradition for the men\\'s Olympic marathon to be the last event of the athletics calendar, with a finish inside the Olympic stadium, often within hours of, or even incorporated into, the closing ceremonies. The marathon of the 2004 Summer Olympics revived the traditional route from Marathon to Athens, ending at Panathinaiko Stadium, the venue for the 1896 Summer Olympics. The Olympic men\\'s record ---- 2:06:32.'"
      ]
     },
     "execution_count": 3,
     "metadata": {},
     "output_type": "execute_result"
    }
   ],
   "source": [
    "input_text"
   ]
  },
  {
   "cell_type": "code",
   "execution_count": 4,
   "metadata": {},
   "outputs": [],
   "source": [
    "#nltk.download('punkt')\n",
    "sentences = nltk.sent_tokenize(input_text)"
   ]
  },
  {
   "cell_type": "code",
   "execution_count": 5,
   "metadata": {},
   "outputs": [],
   "source": [
    "def get_sentences_with_blanks(input_text):\n",
    "    '''Extracts sentences with blanks from the entire corpus. '''\n",
    "    \n",
    "    #nltk.download('punkt')\n",
    "    sentences = nltk.sent_tokenize(input_text)\n",
    "    docs = [sent for sent in sentences if ' ---- ' in sent ]\n",
    "    new_docs = []\n",
    "    for doc in docs:\n",
    "        window = re.findall('[a-zA-Z,\\']+ ---- [a-zA-Z,\\']+',doc)\n",
    "        if len(window)>1:\n",
    "            for i in range(len(window)):\n",
    "                new_docs.append(doc)\n",
    "        else:\n",
    "            new_docs.append(doc)\n",
    "    \n",
    "    return new_docs"
   ]
  },
  {
   "cell_type": "code",
   "execution_count": 6,
   "metadata": {},
   "outputs": [
    {
     "name": "stdout",
     "output_type": "stream",
     "text": [
      "['When the modern Olympics began in 1896, the initiators and organizers ---- looking for a great popularizing event, recalling the ancient glory of Greece.', 'The Greeks staged a selection race for the Olympic marathon on 10 March 1896 that ---- won by Charilaos Vasilakos in 3 hours and 18 minutes (with the future winner of the introductory Olympic Games marathon coming in fifth).', \"The women's marathon ---- introduced at the 1984 Summer Olympics (Los Angeles, USA) and ---- won by Joan Benoit of the United States with a time of 2 hours 24 minutes and 52 seconds.\", \"The women's marathon ---- introduced at the 1984 Summer Olympics (Los Angeles, USA) and ---- won by Joan Benoit of the United States with a time of 2 hours 24 minutes and 52 seconds.\", \"Since the modern games ---- founded, it has become a tradition for the men's Olympic marathon to be the last event of the athletics calendar, with a finish inside the Olympic stadium, often within hours of, or even incorporated into, the closing ceremonies.\", \"The Olympic men's record ---- 2:06:32.\"]\n"
     ]
    }
   ],
   "source": [
    "print(get_sentences_with_blanks(input_text))       "
   ]
  },
  {
   "cell_type": "code",
   "execution_count": 7,
   "metadata": {},
   "outputs": [],
   "source": [
    "#nltk.download('averaged_perceptron_tagger')\n",
    "def tag_docs(new_docs):\n",
    "    '''Tags the docs/sentences which have blanks with various parts-of-speech tags in nltk.'''\n",
    "    \n",
    "    tokenized_docs = []\n",
    "    tagged_docs = []\n",
    "    for doc in new_docs:\n",
    "        tokens = nltk.word_tokenize(doc)\n",
    "        tokenized_docs.append(tokens) \n",
    "        tagged_docs.append(nltk.pos_tag(tokens))\n",
    "    \n",
    "    return tagged_docs"
   ]
  },
  {
   "cell_type": "code",
   "execution_count": 8,
   "metadata": {},
   "outputs": [
    {
     "name": "stdout",
     "output_type": "stream",
     "text": [
      "[[('When', 'WRB'), ('the', 'DT'), ('modern', 'JJ'), ('Olympics', 'NNPS'), ('began', 'VBD'), ('in', 'IN'), ('1896', 'CD'), (',', ','), ('the', 'DT'), ('initiators', 'NNS'), ('and', 'CC'), ('organizers', 'NNS'), ('--', ':'), ('--', ':'), ('looking', 'VBG'), ('for', 'IN'), ('a', 'DT'), ('great', 'JJ'), ('popularizing', 'NN'), ('event', 'NN'), (',', ','), ('recalling', 'VBG'), ('the', 'DT'), ('ancient', 'JJ'), ('glory', 'NN'), ('of', 'IN'), ('Greece', 'NNP'), ('.', '.')], [('The', 'DT'), ('Greeks', 'NNP'), ('staged', 'VBD'), ('a', 'DT'), ('selection', 'NN'), ('race', 'NN'), ('for', 'IN'), ('the', 'DT'), ('Olympic', 'NNP'), ('marathon', 'NN'), ('on', 'IN'), ('10', 'CD'), ('March', 'NNP'), ('1896', 'CD'), ('that', 'WDT'), ('--', ':'), ('--', ':'), ('won', 'VBN'), ('by', 'IN'), ('Charilaos', 'NNP'), ('Vasilakos', 'NNP'), ('in', 'IN'), ('3', 'CD'), ('hours', 'NNS'), ('and', 'CC'), ('18', 'CD'), ('minutes', 'NNS'), ('(', '('), ('with', 'IN'), ('the', 'DT'), ('future', 'JJ'), ('winner', 'NN'), ('of', 'IN'), ('the', 'DT'), ('introductory', 'NN'), ('Olympic', 'NNP'), ('Games', 'NNP'), ('marathon', 'VBP'), ('coming', 'VBG'), ('in', 'IN'), ('fifth', 'NN'), (')', ')'), ('.', '.')], [('The', 'DT'), ('women', 'NNS'), (\"'s\", 'POS'), ('marathon', 'NN'), ('--', ':'), ('--', ':'), ('introduced', 'VBD'), ('at', 'IN'), ('the', 'DT'), ('1984', 'CD'), ('Summer', 'NNP'), ('Olympics', 'NNP'), ('(', '('), ('Los', 'NNP'), ('Angeles', 'NNP'), (',', ','), ('USA', 'NNP'), (')', ')'), ('and', 'CC'), ('--', ':'), ('--', ':'), ('won', 'VBN'), ('by', 'IN'), ('Joan', 'NNP'), ('Benoit', 'NNP'), ('of', 'IN'), ('the', 'DT'), ('United', 'NNP'), ('States', 'NNPS'), ('with', 'IN'), ('a', 'DT'), ('time', 'NN'), ('of', 'IN'), ('2', 'CD'), ('hours', 'NNS'), ('24', 'CD'), ('minutes', 'NNS'), ('and', 'CC'), ('52', 'CD'), ('seconds', 'NNS'), ('.', '.')], [('The', 'DT'), ('women', 'NNS'), (\"'s\", 'POS'), ('marathon', 'NN'), ('--', ':'), ('--', ':'), ('introduced', 'VBD'), ('at', 'IN'), ('the', 'DT'), ('1984', 'CD'), ('Summer', 'NNP'), ('Olympics', 'NNP'), ('(', '('), ('Los', 'NNP'), ('Angeles', 'NNP'), (',', ','), ('USA', 'NNP'), (')', ')'), ('and', 'CC'), ('--', ':'), ('--', ':'), ('won', 'VBN'), ('by', 'IN'), ('Joan', 'NNP'), ('Benoit', 'NNP'), ('of', 'IN'), ('the', 'DT'), ('United', 'NNP'), ('States', 'NNPS'), ('with', 'IN'), ('a', 'DT'), ('time', 'NN'), ('of', 'IN'), ('2', 'CD'), ('hours', 'NNS'), ('24', 'CD'), ('minutes', 'NNS'), ('and', 'CC'), ('52', 'CD'), ('seconds', 'NNS'), ('.', '.')], [('Since', 'IN'), ('the', 'DT'), ('modern', 'JJ'), ('games', 'NNS'), ('--', ':'), ('--', ':'), ('founded', 'VBD'), (',', ','), ('it', 'PRP'), ('has', 'VBZ'), ('become', 'VBN'), ('a', 'DT'), ('tradition', 'NN'), ('for', 'IN'), ('the', 'DT'), ('men', 'NNS'), (\"'s\", 'POS'), ('Olympic', 'NNP'), ('marathon', 'NN'), ('to', 'TO'), ('be', 'VB'), ('the', 'DT'), ('last', 'JJ'), ('event', 'NN'), ('of', 'IN'), ('the', 'DT'), ('athletics', 'NNS'), ('calendar', 'NN'), (',', ','), ('with', 'IN'), ('a', 'DT'), ('finish', 'JJ'), ('inside', 'IN'), ('the', 'DT'), ('Olympic', 'NNP'), ('stadium', 'NN'), (',', ','), ('often', 'RB'), ('within', 'IN'), ('hours', 'NNS'), ('of', 'IN'), (',', ','), ('or', 'CC'), ('even', 'RB'), ('incorporated', 'VBN'), ('into', 'IN'), (',', ','), ('the', 'DT'), ('closing', 'NN'), ('ceremonies', 'NNS'), ('.', '.')], [('The', 'DT'), ('Olympic', 'NNP'), ('men', 'NNS'), (\"'s\", 'POS'), ('record', 'NN'), ('--', ':'), ('--', ':'), ('2:06:32', 'CD'), ('.', '.')]]\n"
     ]
    }
   ],
   "source": [
    "new_docs = get_sentences_with_blanks(input_text)\n",
    "tagged_docs = tag_docs(new_docs)\n",
    "print(tagged_docs)"
   ]
  },
  {
   "cell_type": "code",
   "execution_count": 43,
   "metadata": {},
   "outputs": [],
   "source": [
    "def find_verbs_nouns(tagged_docs):\n",
    "    '''Specifically extracts nouns and verb tags from the previously tagged documents.\n",
    "       Verb tags are going to be used to extract tense information from the sentence whereas noun tags will be\n",
    "       used to find whether the subjects in the sentence are plural or singular.'''\n",
    "    \n",
    "    verb_tags_list = []\n",
    "    noun_tags_list = []\n",
    "    for doc in tagged_docs:\n",
    "        tags = ' '.join([tag[1] for tag in doc])\n",
    "        verb_tags = re.findall('(VB\\w?)',str(tags))\n",
    "        verb_tags_list.append(verb_tags)\n",
    "        noun_tags = re.findall('(NN\\w*)',str(tags))\n",
    "        noun_tags_list.append(noun_tags)\n",
    "        #print(verb_tags)\n",
    "        #print(noun_tags)\n",
    "    \n",
    "    return verb_tags_list,noun_tags_list"
   ]
  },
  {
   "cell_type": "code",
   "execution_count": 44,
   "metadata": {},
   "outputs": [
    {
     "name": "stdout",
     "output_type": "stream",
     "text": [
      "Verb Tags:  [['VBD', 'VBG', 'VBG'], ['VBD', 'VBN', 'VBP', 'VBG'], ['VBD', 'VBN'], ['VBD', 'VBN'], ['VBD', 'VBZ', 'VBN', 'VB', 'VBN'], []]\n",
      "Noun Tags:  [['NNPS', 'NNS', 'NNS', 'NN', 'NN', 'NN', 'NNP'], ['NNP', 'NN', 'NN', 'NNP', 'NN', 'NNP', 'NNP', 'NNP', 'NNS', 'NNS', 'NN', 'NN', 'NNP', 'NNP', 'NN'], ['NNS', 'NN', 'NNP', 'NNP', 'NNP', 'NNP', 'NNP', 'NNP', 'NNP', 'NNP', 'NNPS', 'NN', 'NNS', 'NNS', 'NNS'], ['NNS', 'NN', 'NNP', 'NNP', 'NNP', 'NNP', 'NNP', 'NNP', 'NNP', 'NNP', 'NNPS', 'NN', 'NNS', 'NNS', 'NNS'], ['NNS', 'NN', 'NNS', 'NNP', 'NN', 'NN', 'NNS', 'NN', 'NNP', 'NN', 'NNS', 'NN', 'NNS'], ['NNP', 'NNS', 'NN']]\n"
     ]
    }
   ],
   "source": [
    "verb_tags_list,noun_tags_list = find_verbs_nouns(tag_docs(new_docs))\n",
    "print('Verb Tags: ',verb_tags_list)\n",
    "print('Noun Tags: ',noun_tags_list)"
   ]
  },
  {
   "cell_type": "code",
   "execution_count": 45,
   "metadata": {},
   "outputs": [],
   "source": [
    "def determine_tense(verb_tags_list):\n",
    "    '''Classifies a sentence based on tense.The tense is determined by counting the number of occurences of each\n",
    "    type of tense in the sentence using the POS tags.\n",
    "    Returns a dictionary of tuples with counts of (past,present) verbs respectively'''\n",
    "    \n",
    "    tense_data = {}\n",
    "    i = 1 \n",
    "    for tags in verb_tags_list:\n",
    "        present = 0\n",
    "        past = 0\n",
    "\n",
    "        for tag in tags:\n",
    "            if tag == 'VBD' or tag == 'VBN':\n",
    "                past += 1\n",
    "            elif tag == 'VBG' and past>0:\n",
    "                past += 1\n",
    "            elif tag == 'VB' or tag == 'VBP' or tag == 'VBZ':\n",
    "                present += 1\n",
    "            elif tag == 'VBG' and present>0:\n",
    "                present += 1\n",
    "\n",
    "        tense_data[i] = (past,present)\n",
    "        i += 1\n",
    "    \n",
    "    return tense_data"
   ]
  },
  {
   "cell_type": "code",
   "execution_count": 46,
   "metadata": {},
   "outputs": [
    {
     "name": "stdout",
     "output_type": "stream",
     "text": [
      "{1: (3, 0), 2: (3, 1), 3: (2, 0), 4: (2, 0), 5: (3, 2), 6: (0, 0)}\n"
     ]
    }
   ],
   "source": [
    "tense_data = determine_tense(verb_tags_list)\n",
    "print(tense_data)"
   ]
  },
  {
   "cell_type": "code",
   "execution_count": 47,
   "metadata": {},
   "outputs": [],
   "source": [
    "def determine_singular(noun_tags_list):\n",
    "    '''Returns a dictionary of tuples with counts of (singular,plural) nouns respectively'''\n",
    "    noun_data = {}\n",
    "    j = 1\n",
    "    for tags in noun_tags_list:\n",
    "        singular = 0\n",
    "        plural = 0\n",
    "\n",
    "        for tag in tags:\n",
    "            if tag in ['NN']:\n",
    "                singular += 1\n",
    "            elif tag in ['NNS']:\n",
    "                plural += 1\n",
    "\n",
    "        noun_data[j] = (singular,plural)\n",
    "        j += 1\n",
    "        \n",
    "    return noun_data"
   ]
  },
  {
   "cell_type": "code",
   "execution_count": 48,
   "metadata": {},
   "outputs": [
    {
     "name": "stdout",
     "output_type": "stream",
     "text": [
      "{1: (3, 2), 2: (6, 2), 3: (2, 4), 4: (2, 4), 5: (6, 5), 6: (1, 1)}\n"
     ]
    }
   ],
   "source": [
    "noun_data = determine_singular(noun_tags_list)\n",
    "print(noun_data)"
   ]
  },
  {
   "cell_type": "code",
   "execution_count": 63,
   "metadata": {},
   "outputs": [],
   "source": [
    "def get_context_info(tense_data,noun_data):\n",
    "    '''Combines the information of tense and noun of a sentence into one nested dictionary as context info.\n",
    "    The nested dictionary consists n dictionary with each having two keys (past,singular) with boolean values.'''\n",
    "    \n",
    "    context_data = {}\n",
    "    for k,v in tense_data.items():\n",
    "        cont_dict = {}\n",
    "        if v[0]>v[1]:\n",
    "            cont_dict['past'] = True\n",
    "        else:\n",
    "            cont_dict['past'] = False\n",
    "\n",
    "        context_data[k] = cont_dict    \n",
    "\n",
    "    for k,v in noun_data.items():\n",
    "\n",
    "        if v[0]>=v[1]:\n",
    "            context_data[k]['singular'] = True\n",
    "        else:\n",
    "            context_data[k]['singular'] = False\n",
    "\n",
    "    return context_data\n",
    "\n"
   ]
  },
  {
   "cell_type": "code",
   "execution_count": 64,
   "metadata": {},
   "outputs": [
    {
     "name": "stdout",
     "output_type": "stream",
     "text": [
      "{1: {'past': True, 'singular': True}, 2: {'past': True, 'singular': True}, 3: {'past': True, 'singular': False}, 4: {'past': True, 'singular': False}, 5: {'past': True, 'singular': True}, 6: {'past': False, 'singular': True}}\n"
     ]
    }
   ],
   "source": [
    "context_data = get_context_info(tense_data,noun_data)\n",
    "print(context_data)"
   ]
  },
  {
   "cell_type": "code",
   "execution_count": 81,
   "metadata": {},
   "outputs": [],
   "source": [
    "def before_and_after_blank_info():\n",
    "    '''Gets the pos tags for words before and after the blank.This information will be used as the primary base for\n",
    "    determining the answer. If some information is missing related to tense or pluarality, context_dict will be referred.'''\n",
    "    docs = [sent for sent in sentences if ' ---- ' in sent ]\n",
    "    k=1\n",
    "    before_blank = []\n",
    "    after_blank = []\n",
    "    data = {}\n",
    "    for doc in docs:\n",
    "        windows = re.findall('[a-zA-Z0-9,\\']+ ---- [a-zA-Z0-9,\\']+',doc)\n",
    "        #print(windows)\n",
    "        for window in windows:\n",
    "            window_tokens = re.split(' ---- ',window)\n",
    "            tagged = nltk.pos_tag(window_tokens)\n",
    "            before_blank.append(tagged[0])\n",
    "            after_blank.append(tagged[1])\n",
    "            \n",
    "            #print(tagged)\n",
    "            tag_dict = {}\n",
    "            for tags in tagged:\n",
    "                if tags[1] in ['NN','NNP']:\n",
    "                    tag_dict['singular'] = True\n",
    "                elif tags[1] in ['NNS','NNPS']:\n",
    "                    tag_dict['singular'] = False\n",
    "                elif tags[1] in ['VBD','VBN']:\n",
    "                    tag_dict['past'] = True\n",
    "                elif tags[1] in ['VB','VBZ']:\n",
    "                    tag_dict['past'] = False\n",
    "\n",
    "\n",
    "            data[k] = tag_dict\n",
    "            k+=1\n",
    "    \n",
    "    return data,after_blank,before_blank"
   ]
  },
  {
   "cell_type": "code",
   "execution_count": 82,
   "metadata": {},
   "outputs": [
    {
     "name": "stdout",
     "output_type": "stream",
     "text": [
      "Data:  {1: {'singular': False}, 2: {'past': True}, 3: {'singular': True, 'past': True}, 4: {'past': True}, 5: {'singular': False}, 6: {'singular': True}}\n",
      "Before blank pos:  [('organizers', 'NNS'), ('that', 'DT'), ('marathon', 'NN'), ('and', 'CC'), ('games', 'NNS'), ('record', 'NN')]\n",
      "After blank pos:  [('looking', 'VBG'), ('won', 'VBD'), ('introduced', 'VBD'), ('won', 'VBD'), ('founded,', 'VBP'), ('2', 'CD')]\n"
     ]
    }
   ],
   "source": [
    "data,after_blank,before_blank = before_and_after_blank_info()\n",
    "print('Data: ',data)\n",
    "print('Before blank pos: ',before_blank)\n",
    "print('After blank pos: ',after_blank)"
   ]
  },
  {
   "cell_type": "code",
   "execution_count": 83,
   "metadata": {},
   "outputs": [
    {
     "data": {
      "text/plain": [
       "{1: {'past': True, 'singular': False},\n",
       " 2: {'past': True, 'singular': True},\n",
       " 3: {'past': True, 'singular': True},\n",
       " 4: {'past': True, 'singular': False},\n",
       " 5: {'past': True, 'singular': False},\n",
       " 6: {'past': False, 'singular': True}}"
      ]
     },
     "execution_count": 83,
     "metadata": {},
     "output_type": "execute_result"
    }
   ],
   "source": [
    "# combine data and context_data\n",
    "for k,v in data.items():\n",
    "    if 'singular' not in data[k].keys():\n",
    "        data[k]['singular'] = context_data[k]['singular']\n",
    "    elif 'past' not in data[k].keys():\n",
    "        data[k]['past'] = context_data[k]['past']\n",
    "    \n",
    "data"
   ]
  },
  {
   "cell_type": "code",
   "execution_count": 84,
   "metadata": {
    "scrolled": true
   },
   "outputs": [
    {
     "data": {
      "text/plain": [
       "{1: 'were', 2: 'was', 3: 'was', 4: 'were', 5: 'were', 6: 'is'}"
      ]
     },
     "execution_count": 84,
     "metadata": {},
     "output_type": "execute_result"
    }
   ],
   "source": [
    "answers = {}\n",
    "#print(data)\n",
    "for i in range(0,len(before_blank)):\n",
    "    if before_blank[i][0] == 'I':\n",
    "        answers[i+1] = 'am'\n",
    "    elif before_blank[i][1] == 'MD' or before_blank[i][0] in ['can\\'t','won\\'t','wasn\\'t','isn\\'t']:\n",
    "        answers[i+1] = 'be'\n",
    "    elif before_blank[i][0] in ['has','have','had','am']:\n",
    "        answers[i+1] = 'been'\n",
    "    elif before_blank[i][0] in ['is','was','were']:\n",
    "        answers[i+1] = 'being'\n",
    "    elif data[i+1]['past'] == True and data[i+1]['singular'] == True:\n",
    "        answers[i+1] = 'was'\n",
    "    elif data[i+1]['past'] == True and data[i+1]['singular'] == False:\n",
    "        answers[i+1] = 'were'\n",
    "    elif data[i+1]['past'] == False and data[i+1]['singular'] == True:\n",
    "        answers[i+1] = 'is'\n",
    "    elif data[i+1]['past'] == False and data[i+1]['singular'] == False:\n",
    "        answers[i+1] = 'are'\n",
    "    \n",
    "answers\n",
    "  \n",
    "        \n",
    "          "
   ]
  },
  {
   "cell_type": "code",
   "execution_count": 85,
   "metadata": {},
   "outputs": [
    {
     "name": "stdout",
     "output_type": "stream",
     "text": [
      "were\n",
      "was\n",
      "was\n",
      "were\n",
      "were\n",
      "is\n"
     ]
    }
   ],
   "source": [
    "for k,v in answers.items():\n",
    "    print(v)"
   ]
  },
  {
   "cell_type": "code",
   "execution_count": null,
   "metadata": {},
   "outputs": [],
   "source": []
  },
  {
   "cell_type": "code",
   "execution_count": null,
   "metadata": {},
   "outputs": [],
   "source": []
  }
 ],
 "metadata": {
  "kernelspec": {
   "display_name": "Python 3",
   "language": "python",
   "name": "python3"
  },
  "language_info": {
   "codemirror_mode": {
    "name": "ipython",
    "version": 3
   },
   "file_extension": ".py",
   "mimetype": "text/x-python",
   "name": "python",
   "nbconvert_exporter": "python",
   "pygments_lexer": "ipython3",
   "version": "3.6.3"
  }
 },
 "nbformat": 4,
 "nbformat_minor": 2
}
